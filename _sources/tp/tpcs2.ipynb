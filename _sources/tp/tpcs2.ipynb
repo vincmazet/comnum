{
 "cells": [
  {
   "cell_type": "markdown",
   "metadata": {},
   "source": [
    "# Codage source : code morse\n",
    "vincent.mazet@unistra.fr, 04/2021"
   ]
  },
  {
   "cell_type": "code",
   "execution_count": 1,
   "metadata": {
    "jupyter": {
     "source_hidden": true
    }
   },
   "outputs": [
    {
     "name": "stdout",
     "output_type": "stream",
     "text": [
      "Longueur moyenne du code morse : 4.55 codes/symb\n",
      "Longueur moyenne du code de Huffman (binaire) : 4.22 codes/symb\n",
      "Longueur moyenne du code de Huffman (ternaire) : 2.72 codes/symb (code Matlab)\n",
      "\n",
      "    Symbole      Morse          Huffman (binaire)\n",
      "    ---------------------------------------------\n",
      "    A\t\t[  .-]\t\t(0, 1, 1, 0)\n",
      "    B\t\t[  -...]\t\t(1, 0, 1, 0, 1, 1)\n",
      "    C\t\t[  -.-.]\t\t(0, 0, 1, 1, 1, 0)\n",
      "    D\t\t[  -..]\t\t(0, 0, 1, 1, 0)\n",
      "    E\t\t[  .]\t\t(1, 1, 1)\n",
      "    F\t\t[  ..-.]\t\t(0, 1, 0, 1, 0, 1)\n",
      "    G\t\t[  --.]\t\t(0, 0, 1, 1, 1, 1)\n",
      "    H\t\t[  ....]\t\t(1, 0, 1, 1)\n",
      "    I\t\t[  ..]\t\t(1, 0, 0, 1)\n",
      "    J\t\t[  .---]\t\t(1, 0, 1, 0, 1, 0, 1, 1, 1)\n",
      "    K\t\t[  -.-]\t\t(1, 0, 1, 0, 1, 0, 0)\n",
      "    L\t\t[  .-..]\t\t(0, 1, 0, 1, 1)\n",
      "    M\t\t[  --]\t\t(0, 0, 1, 0, 0, 1)\n",
      "    N\t\t[  -.]\t\t(1, 0, 0, 0)\n",
      "    O\t\t[  ---]\t\t(0, 1, 1, 1)\n",
      "    P\t\t[  .--.]\t\t(1, 0, 1, 0, 0, 1)\n",
      "    Q\t\t[  --.-]\t\t(1, 0, 1, 0, 1, 0, 1, 0, 1, 0)\n",
      "    R\t\t[  .-.]\t\t(1, 1, 0, 0)\n",
      "    S\t\t[  ...]\t\t(1, 1, 0, 1)\n",
      "    T\t\t[  -]\t\t(0, 1, 0, 0)\n",
      "    U\t\t[  ..-]\t\t(0, 0, 1, 0, 0, 0)\n",
      "    V\t\t[  ...-]\t\t(0, 0, 1, 0, 1, 0, 1)\n",
      "    W\t\t[  .--]\t\t(0, 1, 0, 1, 0, 0)\n",
      "    X\t\t[  -..-]\t\t(1, 0, 1, 0, 1, 0, 1, 1, 0)\n",
      "    Y\t\t[  -.--]\t\t(1, 0, 1, 0, 0, 0)\n",
      "    Z\t\t[  --..]\t\t(1, 0, 1, 0, 1, 0, 1, 0, 1, 1)\n",
      "    period\t\t[  .-.-.-]\t\t(0, 0, 1, 0, 1, 0, 0)\n",
      "    comma\t\t[  --..--]\t\t(0, 0, 1, 0, 1, 1)\n",
      "    space\t\t[    ]\t\t(0, 0, 0)\n",
      "    apostrophe\t\t[  .----.]\t\t(1, 0, 1, 0, 1, 0, 1, 0, 0)\n"
     ]
    }
   ],
   "source": [
    "import numpy as np\n",
    "import komm\n",
    "\n",
    "# Probabilité des caractères (character, probability)\n",
    "T = np.loadtxt(\"probas.csv\", dtype=\"str\", delimiter=\",\", skiprows=1)\n",
    "character = T[:,0]\n",
    "probability = np.float64(T[:,2])\n",
    "\n",
    "M = len(probability)\n",
    "\n",
    "# Longueur moyenne\n",
    "dm = [\n",
    "    '  .-',\n",
    "    '  -...',\n",
    "    '  -.-.',\n",
    "    '  -..',\n",
    "    '  .',\n",
    "    '  ..-.',\n",
    "    '  --.',\n",
    "    '  ....',\n",
    "    '  ..',\n",
    "    '  .---',\n",
    "    '  -.-',\n",
    "    '  .-..',\n",
    "    '  --',\n",
    "    '  -.',\n",
    "    '  ---',\n",
    "    '  .--.',\n",
    "    '  --.-',\n",
    "    '  .-.',\n",
    "    '  ...',\n",
    "    '  -',\n",
    "    '  ..-',\n",
    "    '  ...-',\n",
    "    '  .--',\n",
    "    '  -..-',\n",
    "    '  -.--',\n",
    "    '  --..',\n",
    "    '  .-.-.-',\n",
    "    '  --..--',\n",
    "    '    ',\n",
    "    '  .----.']\n",
    "Lm = 0\n",
    "for m in range(M):\n",
    "    Lm = Lm + probability[m] * len(dm[m])\n",
    "print(f\"Longueur moyenne du code morse : {Lm:.2f} codes/symb\")\n",
    "\n",
    "# Codage de Hamming\n",
    "code = komm.HuffmanCode(probability)\n",
    "v = list(code.enc_mapping.values())\n",
    "Lh = 0\n",
    "for i in range(code.source_cardinality):\n",
    "    Lh += code.pmf[i] * len(v[i])\n",
    "print(f\"Longueur moyenne du code de Huffman (binaire) : {Lh:.2f} codes/symb\")\n",
    "\n",
    "print(f\"Longueur moyenne du code de Huffman (ternaire) : 2.72 codes/symb (code Matlab)\")\n",
    "\n",
    "print()\n",
    "\n",
    "# Affichage des dictionnaires\n",
    "print(\"    Symbole      Morse          Huffman (binaire)\")\n",
    "print(\"    ---------------------------------------------\")\n",
    "for m in range(M):\n",
    "    print(f\"    {character[m]}\\t\\t[{dm[m]}]\\t\\t{v[m]}\")"
   ]
  }
 ],
 "metadata": {
  "kernelspec": {
   "display_name": "Python 3",
   "language": "python",
   "name": "python3"
  },
  "language_info": {
   "codemirror_mode": {
    "name": "ipython",
    "version": 3
   },
   "file_extension": ".py",
   "mimetype": "text/x-python",
   "name": "python",
   "nbconvert_exporter": "python",
   "pygments_lexer": "ipython3",
   "version": "3.7.3"
  }
 },
 "nbformat": 4,
 "nbformat_minor": 4
}
