{
 "cells": [
  {
   "cell_type": "markdown",
   "metadata": {},
   "source": [
    "# Compression d'une texte\n",
    "vincent.mazet@unistra.fr, 03/2022"
   ]
  },
  {
   "cell_type": "code",
   "execution_count": 51,
   "metadata": {
    "tags": []
   },
   "outputs": [],
   "source": [
    "# import comnumfip as cnf\n",
    "import komm as komm\n",
    "import numpy as np\n",
    "# import skimage.io as io\n",
    "# import matplotlib.pyplot as plt\n",
    "# from scipy.fftpack import dctn, idctn"
   ]
  },
  {
   "cell_type": "code",
   "execution_count": 44,
   "metadata": {},
   "outputs": [],
   "source": [
    "Dc = 100e6"
   ]
  },
  {
   "cell_type": "code",
   "execution_count": 45,
   "metadata": {},
   "outputs": [
    {
     "name": "stdout",
     "output_type": "stream",
     "text": [
      "[\"Le capitaine Nemo se leva. Je le suivis. Une double porte, ménagée à l'arrière de la salle, s'ouvrit, et j'entrai dans une chambre de dimension égale à celle que je venais de quitter.\\n\\nC'était une bibliothèque. De hauts meubles en palissandre noir, incrustés de cuivres, supportaient sur leurs larges rayons un grand nombre de livres uniformément reliés. Ils suivaient le contour de la salle et se terminaient à leur partie inférieure par de vastes divans, capitonnés de cuir marron, qui offraient les courbes les plus confortables. De légers pupitres mobiles, en s'écartant ou se rapprochant à volonté, permettaient d'y poser le livre en lecture. Au centre se dressait une vaste table, couverte de brochures, entre lesquelles apparaissaient quelques journaux déjà vieux. La lumière électrique inondait tout cet harmonieux ensemble, et tombait de quatre globes dépolis à demi engagés dans les volutes du plafond. Je regardais avec une admiration réelle cette salle si ingénieusement aménagée, et je n\"]\n",
      "16939\n"
     ]
    }
   ],
   "source": [
    "f = open(\"20000.txt\", \"r\")\n",
    "msg = f.read()\n",
    "N = len(msg)\n",
    "print([msg[:1000]])\n",
    "print(N)"
   ]
  },
  {
   "cell_type": "code",
   "execution_count": 46,
   "metadata": {},
   "outputs": [],
   "source": [
    "# Nombre de symboles\n",
    "M = 26+4"
   ]
  },
  {
   "cell_type": "code",
   "execution_count": 47,
   "metadata": {},
   "outputs": [
    {
     "name": "stdout",
     "output_type": "stream",
     "text": [
      "4.088848086077461\n"
     ]
    }
   ],
   "source": [
    "# Entropie de la source\n",
    "probas = np.loadtxt(\"probas.csv\", delimiter=\",\", skiprows=1, usecols=1)\n",
    "Hs = -np.sum(probas*np.log2(probas))\n",
    "print(Hs)"
   ]
  },
  {
   "cell_type": "code",
   "execution_count": 59,
   "metadata": {},
   "outputs": [
    {
     "name": "stdout",
     "output_type": "stream",
     "text": [
      "135512 bits soit 16939 octets\n",
      "Longueur moyenne : 8.00 bits/symb\n",
      "Durée de transmission : 1355 µs\n"
     ]
    }
   ],
   "source": [
    "# Code ASCII\n",
    "\n",
    "L = 8\n",
    "\n",
    "print(f\"{N*L} bits soit {N} octets\")\n",
    "T = N * L / Dc\n",
    "\n",
    "print(f\"Longueur moyenne : {L:.2f} bits/symb\")\n",
    "print(f\"Durée de transmission : {T*1e6:.0f} µs\")"
   ]
  },
  {
   "cell_type": "code",
   "execution_count": 60,
   "metadata": {},
   "outputs": [
    {
     "name": "stdout",
     "output_type": "stream",
     "text": [
      "Longueur moyenne : 4.12 bits/symb\n",
      "Durée de transmission : 698 µs\n"
     ]
    }
   ],
   "source": [
    "# Huffmann de 1re espèce\n",
    "\n",
    "code = komm.HuffmanCode(probas)\n",
    "v = list(code.enc_mapping.values())\n",
    "L = 0\n",
    "for i in range(len(v)):\n",
    "    L += code.pmf[i] * len(v[i])\n",
    "T = N * L / Dc\n",
    "\n",
    "print(f\"Longueur moyenne : {L:.2f} bits/symb\")\n",
    "print(f\"Durée de transmission : {T*1e6:.0f} µs\")"
   ]
  },
  {
   "cell_type": "code",
   "execution_count": 61,
   "metadata": {},
   "outputs": [
    {
     "name": "stdout",
     "output_type": "stream",
     "text": [
      "Longueur moyenne : 4.10 bits/symb\n",
      "Durée de transmission : 695 µs\n"
     ]
    }
   ],
   "source": [
    "probas2 = np.kron(probas,probas)\n",
    "code = komm.HuffmanCode(probas2)\n",
    "v = list(code.enc_mapping.values())\n",
    "L = 0\n",
    "for i in range(len(v)):\n",
    "    L += code.pmf[i] * len(v[i])\n",
    "T = N * L / Dc\n",
    "\n",
    "print(f\"Longueur moyenne : {L/2:.2f} bits/symb\")\n",
    "print(f\"Durée de transmission : {T*1e6/2:.0f} µs\")"
   ]
  },
  {
   "cell_type": "code",
   "execution_count": null,
   "metadata": {},
   "outputs": [],
   "source": []
  }
 ],
 "metadata": {
  "kernelspec": {
   "display_name": "Python 3",
   "language": "python",
   "name": "python3"
  },
  "language_info": {
   "codemirror_mode": {
    "name": "ipython",
    "version": 3
   },
   "file_extension": ".py",
   "mimetype": "text/x-python",
   "name": "python",
   "nbconvert_exporter": "python",
   "pygments_lexer": "ipython3",
   "version": "3.7.3"
  }
 },
 "nbformat": 4,
 "nbformat_minor": 4
}
