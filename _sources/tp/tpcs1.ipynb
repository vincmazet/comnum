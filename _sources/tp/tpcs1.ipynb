{
 "cells": [
  {
   "cell_type": "markdown",
   "metadata": {},
   "source": [
    "# Théorie de l'information\n",
    "vincent.mazet@unistra.fr, 03/2022"
   ]
  },
  {
   "cell_type": "code",
   "execution_count": 1,
   "metadata": {
    "tags": []
   },
   "outputs": [],
   "source": [
    "import numpy as np\n",
    "import komm"
   ]
  },
  {
   "cell_type": "code",
   "execution_count": 2,
   "metadata": {
    "tags": []
   },
   "outputs": [
    {
     "name": "stdout",
     "output_type": "stream",
     "text": [
      "Taille de l'alphabet de la source M = 30\n",
      "Taille de l'alphabet du canal N = 2\n",
      "Entropie de la source Hs = 4.09 Sh/symb\n",
      "(entropie différente de log2(M) donc compression possible)\n",
      "Débit canal Dc = 10.00 bits/s\n",
      "Capacité canal Cc = 10.00 Sh/s\n",
      "Taux de transmission maximal Ts = 10.00 Sh/s\n",
      "Débit de la source Ds = 2.45 symb/s\n",
      "Temps minimal théorique nécessaire pour enregistrer le fichier sans erreur : 57.24 s\n",
      "\n",
      "Taille de l'alphabet du canal N = 8\n",
      "Entropie de la source Hs = 4.09 Sh/symb\n",
      "(entropie différente de log2(M) donc compression possible)\n",
      "Débit canal Dc = 10.00 symb/s\n",
      "Capacité canal Cc = 30.00 Sh/s\n",
      "Taux de transmission maximal Ts = 30.00 Sh/s\n",
      "Débit de la source Ds = 7.34 symb/s\n",
      "Temps minimal théorique nécessaire pour enregistrer le fichier sans erreur : 19.08 s\n",
      "\n"
     ]
    }
   ],
   "source": [
    "# Nombre de caractères\n",
    "K = 140\n",
    "\n",
    "# Taille de l'alphabet de la source\n",
    "M = 26 + 4\n",
    "print(f\"Taille de l'alphabet de la source M = {M}\")\n",
    "\n",
    "# Taille de l'alphabet du support de stockage\n",
    "for N in [2, 8]:\n",
    "    \n",
    "    print(f\"Taille de l'alphabet du canal N = {N}\")\n",
    "\n",
    "    # Probabilité des caractères\n",
    "    probability = np.loadtxt(\"probas.csv\", delimiter=\",\", skiprows=1, usecols=1)\n",
    "\n",
    "    # Entropie\n",
    "    Hs = komm.entropy(probability)\n",
    "    print(f\"Entropie de la source Hs = {Hs:.2f} Sh/symb\")\n",
    "\n",
    "    # Redondance\n",
    "    if Hs != np.log2(M):\n",
    "        print(\"(entropie différente de log2(M) donc compression possible)\")\n",
    "    else:\n",
    "        print(\"(entropie égale à log2(M) donc compression impossible)\")\n",
    "\n",
    "    # Débit canal\n",
    "    Dc = 10\n",
    "    nomsymb = \"bits\" if N == 2 else \"symb\"\n",
    "    print(f\"Débit canal Dc = {Dc:.2f} {nomsymb}/s\")\n",
    "\n",
    "    # Capacité canal\n",
    "    Cc = np.log2(N) * Dc\n",
    "    print(f\"Capacité canal Cc = {Cc:.2f} Sh/s\")\n",
    "\n",
    "    # Taux de transmission maximal\n",
    "    Ts = Cc\n",
    "    print(f\"Taux de transmission maximal Ts = {Ts:.2f} Sh/s\")\n",
    "\n",
    "    # Débit de la source\n",
    "    Ds = Ts / Hs\n",
    "    print(f\"Débit de la source Ds = {Ds:.2f} symb/s\")\n",
    "\n",
    "    # Temps minimal théorique nécessaire pour enregistrer le fichier sans erreur\n",
    "    tps = K / Ds\n",
    "    print(f\"Temps minimal théorique nécessaire pour enregistrer le fichier sans erreur : {tps:.2f} s\")\n",
    "    \n",
    "    print()"
   ]
  },
  {
   "cell_type": "markdown",
   "metadata": {},
   "source": [
    "## Test de trois codes"
   ]
  },
  {
   "cell_type": "markdown",
   "metadata": {},
   "source": [
    "Pour le **code ASCII**, la longueur moyenne est 8 puisque tous les symboles sont codés sur 8 bits."
   ]
  },
  {
   "cell_type": "code",
   "execution_count": 3,
   "metadata": {
    "tags": []
   },
   "outputs": [
    {
     "name": "stdout",
     "output_type": "stream",
     "text": [
      "Longueur moyenne : 8.00 bits/symb\n",
      "Durée de transmission : 112.00 s\n"
     ]
    }
   ],
   "source": [
    "L = 8\n",
    "T = K * L / Dc\n",
    "\n",
    "print(f\"Longueur moyenne : {L:.2f} bits/symb\")\n",
    "print(f\"Durée de transmission : {T:.2f} s\")"
   ]
  },
  {
   "cell_type": "markdown",
   "metadata": {},
   "source": [
    "Pour le **code de Huffman de 1<sup>re</sup> espèce** :"
   ]
  },
  {
   "cell_type": "code",
   "execution_count": 4,
   "metadata": {
    "tags": []
   },
   "outputs": [
    {
     "name": "stdout",
     "output_type": "stream",
     "text": [
      "Longueur moyenne : 4.12 bits/symb\n",
      "Durée de transmission : 57.69 s\n"
     ]
    }
   ],
   "source": [
    "code = komm.HuffmanCode(probability)\n",
    "v = list(code.enc_mapping.values())\n",
    "L = 0\n",
    "for i in range(len(v)):\n",
    "    L += code.pmf[i] * len(v[i])\n",
    "T = K * L / Dc\n",
    "\n",
    "print(f\"Longueur moyenne : {L:.2f} bits/symb\")\n",
    "print(f\"Durée de transmission : {T:.2f} s\")"
   ]
  },
  {
   "cell_type": "markdown",
   "metadata": {},
   "source": [
    "Enfin, le **code de Huffman de 2<sup>e</sup> espèce** :"
   ]
  },
  {
   "cell_type": "code",
   "execution_count": 5,
   "metadata": {
    "tags": []
   },
   "outputs": [
    {
     "name": "stdout",
     "output_type": "stream",
     "text": [
      "Longueur moyenne : 4.10 bits/symb\n",
      "Durée de transmission : 57.46 s\n"
     ]
    }
   ],
   "source": [
    "probability = np.kron(probability,probability)\n",
    "code = komm.HuffmanCode(probability)\n",
    "v = list(code.enc_mapping.values())\n",
    "L = 0\n",
    "for i in range(len(v)):\n",
    "    L += code.pmf[i] * len(v[i])\n",
    "T = K * L / Dc\n",
    "\n",
    "print(f\"Longueur moyenne : {L/2:.2f} bits/symb\")\n",
    "print(f\"Durée de transmission : {T/2:.2f} s\")"
   ]
  },
  {
   "cell_type": "code",
   "execution_count": null,
   "metadata": {},
   "outputs": [],
   "source": []
  }
 ],
 "metadata": {
  "kernelspec": {
   "display_name": "Python 3",
   "language": "python",
   "name": "python3"
  },
  "language_info": {
   "codemirror_mode": {
    "name": "ipython",
    "version": 3
   },
   "file_extension": ".py",
   "mimetype": "text/x-python",
   "name": "python",
   "nbconvert_exporter": "python",
   "pygments_lexer": "ipython3",
   "version": "3.7.3"
  }
 },
 "nbformat": 4,
 "nbformat_minor": 4
}
