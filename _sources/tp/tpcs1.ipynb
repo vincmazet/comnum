{
 "cells": [
  {
   "cell_type": "markdown",
   "metadata": {},
   "source": [
    "# Compression d'un texte\n",
    "vincent.mazet@unistra.fr, 03/2022"
   ]
  },
  {
   "cell_type": "code",
   "execution_count": 1,
   "metadata": {
    "jupyter": {
     "source_hidden": true
    },
    "tags": [
     "remove-cell"
    ]
   },
   "outputs": [],
   "source": [
    "import numpy as np\n",
    "import komm"
   ]
  },
  {
   "cell_type": "code",
   "execution_count": 2,
   "metadata": {
    "jupyter": {
     "source_hidden": true
    },
    "tags": [
     "remove-input"
    ]
   },
   "outputs": [
    {
     "name": "stdout",
     "output_type": "stream",
     "text": [
      "Taille de l'alphabet de la source   M = 30 symb\n",
      "Taille de l'alphabet du canal       N = 2 symb\n",
      "Entropie de la source               H = 4.09 Sh/symb    (< log2(M) = 4.91 donc compression possible sans perte)\n",
      "Débit canal                         Dc = 100.00 Mbit/s\n",
      "Capacité canal                      Cc = 100.00 Sh/µs\n",
      "Taux de transmission maximal        Ts = 100.00 Sh/µs\n",
      "Débit de la source                  Ds = 24.46 symb/µs\n",
      "\n",
      "Temps minimal théorique nécessaire pour transmettre le fichier sans erreur : 654.22 µs\n",
      "\n"
     ]
    }
   ],
   "source": [
    "# Nombre de caractères\n",
    "K = 16e3\n",
    "\n",
    "# Taille de l'alphabet du canal (canal binaire)\n",
    "N = 2\n",
    "\n",
    "# Taille de l'alphabet de la source\n",
    "M = 26 + 4\n",
    "print(f\"Taille de l'alphabet de la source   M = {M} symb\")\n",
    "\n",
    "# Taille de l'alphabet du support de stockage\n",
    "print(f\"Taille de l'alphabet du canal       N = {N:.0f} symb\")\n",
    "\n",
    "# Probabilité des caractères\n",
    "probas = np.loadtxt(\"probas.csv\", delimiter=\",\", skiprows=1, usecols=1)\n",
    "\n",
    "# Entropie\n",
    "H = komm.entropy(probas)\n",
    "if H < np.log2(M):\n",
    "    redondance = f\"(< log2(M) = {np.log2(M):.2f} donc compression possible sans perte)\"\n",
    "else:\n",
    "    redondance = f\"(= log2(M) = {np.log2(M):.2f} donc compression impossible sans perte)\"\n",
    "print(f\"Entropie de la source               H = {H:.2f} Sh/symb    {redondance}\")\n",
    "\n",
    "# Débit canal\n",
    "Dc = 100e6\n",
    "print(f\"Débit canal                         Dc = {Dc/1e6:.2f} Mbit/s\")\n",
    "\n",
    "# Capacité canal\n",
    "Cc = np.log2(N) * Dc\n",
    "print(f\"Capacité canal                      Cc = {Cc/1e6:.2f} Sh/µs\")\n",
    "\n",
    "# Taux de transmission maximal\n",
    "Ts = Cc\n",
    "print(f\"Taux de transmission maximal        Ts = {Ts/1e6:.2f} Sh/µs\")\n",
    "\n",
    "# Débit de la source\n",
    "Ds = Ts / H\n",
    "print(f\"Débit de la source                  Ds = {Ds/1e6:.2f} symb/µs\\n\")\n",
    "\n",
    "# Temps minimal théorique nécessaire pour enregistrer le fichier sans erreur\n",
    "tps = K / Ds\n",
    "print(f\"Temps minimal théorique nécessaire pour transmettre le fichier sans erreur : {tps*1e6:.2f} µs\\n\")"
   ]
  },
  {
   "cell_type": "markdown",
   "metadata": {},
   "source": [
    "## Code ASCII"
   ]
  },
  {
   "cell_type": "markdown",
   "metadata": {},
   "source": [
    "Le code ASCII est un code de longueur fixe, chaque symbole est codé sur 8 bits.\n",
    "Donc la longueur moyenne est 8 bits/symb."
   ]
  },
  {
   "cell_type": "code",
   "execution_count": 3,
   "metadata": {
    "jupyter": {
     "source_hidden": true
    },
    "tags": [
     "remove-input"
    ]
   },
   "outputs": [
    {
     "name": "stdout",
     "output_type": "stream",
     "text": [
      "Longueur moyenne : 8.00 bits/symb\n",
      "Durée de transmission : 1280.00 µs\n"
     ]
    }
   ],
   "source": [
    "L = 8\n",
    "T = K * L / Dc\n",
    "\n",
    "print(f\"Longueur moyenne : {L:.2f} bits/symb\")\n",
    "print(f\"Durée de transmission : {T*1e6:.2f} µs\")"
   ]
  },
  {
   "cell_type": "markdown",
   "metadata": {},
   "source": [
    "## Code de Huffman de 1<sup>re</sup> espèce"
   ]
  },
  {
   "cell_type": "markdown",
   "metadata": {},
   "source": [
    "Le code peut être construit de la façon suivante :"
   ]
  },
  {
   "cell_type": "code",
   "execution_count": 4,
   "metadata": {},
   "outputs": [],
   "source": [
    "code = komm.HuffmanCode(probas)\n",
    "v = list(code.enc_mapping.values())"
   ]
  },
  {
   "cell_type": "code",
   "execution_count": 5,
   "metadata": {
    "jupyter": {
     "source_hidden": true
    },
    "tags": [
     "remove-input"
    ]
   },
   "outputs": [
    {
     "name": "stdout",
     "output_type": "stream",
     "text": [
      "Longueur moyenne : 4.12 bits/symb\n",
      "Durée de transmission : 659.31 µs\n"
     ]
    }
   ],
   "source": [
    "L = 0\n",
    "for i in range(len(v)):\n",
    "    L += code.pmf[i] * len(v[i])\n",
    "T = K * L / Dc\n",
    "\n",
    "print(f\"Longueur moyenne : {L:.2f} bits/symb\")\n",
    "print(f\"Durée de transmission : {T*1e6:.2f} µs\")"
   ]
  },
  {
   "cell_type": "markdown",
   "metadata": {},
   "source": [
    "## Code de Huffman de 2<sup>e</sup> espèce"
   ]
  },
  {
   "cell_type": "markdown",
   "metadata": {},
   "source": [
    "Les probabilités des nouveaux symboles (combien y en a-t-il ?) peuvent être calculées ainsi :"
   ]
  },
  {
   "cell_type": "code",
   "execution_count": 6,
   "metadata": {},
   "outputs": [],
   "source": [
    "probas2 = np.kron(probas,probas)"
   ]
  },
  {
   "cell_type": "code",
   "execution_count": 7,
   "metadata": {
    "jupyter": {
     "source_hidden": true
    },
    "tags": [
     "remove-input"
    ]
   },
   "outputs": [
    {
     "name": "stdout",
     "output_type": "stream",
     "text": [
      "Longueur moyenne : 4.10 bits/symb\n",
      "Durée de transmission : 656.74 µs\n"
     ]
    }
   ],
   "source": [
    "code = komm.HuffmanCode(probas2)\n",
    "v = list(code.enc_mapping.values())\n",
    "L = 0\n",
    "for i in range(len(v)):\n",
    "    L += code.pmf[i] * len(v[i])\n",
    "L = L /2\n",
    "T = K * L / Dc\n",
    "\n",
    "print(f\"Longueur moyenne : {L:.2f} bits/symb\")\n",
    "print(f\"Durée de transmission : {T*1e6:.2f} µs\")"
   ]
  },
  {
   "cell_type": "markdown",
   "metadata": {},
   "source": [
    "Il ne faut pas oublier de diviser la longueur moyenne par 2 puisque la longueur moyenne calculée correspond à un alaphabet contenant des _couples_ de symboles. On observe ainsi que regrouper les symboles deux par deux pour constituer un nouvel alphabet permet de gagner un peu plus en temps de transmission."
   ]
  }
 ],
 "metadata": {
  "kernelspec": {
   "display_name": "Python 3",
   "language": "python",
   "name": "python3"
  },
  "language_info": {
   "codemirror_mode": {
    "name": "ipython",
    "version": 3
   },
   "file_extension": ".py",
   "mimetype": "text/x-python",
   "name": "python",
   "nbconvert_exporter": "python",
   "pygments_lexer": "ipython3",
   "version": "3.7.2"
  }
 },
 "nbformat": 4,
 "nbformat_minor": 4
}
