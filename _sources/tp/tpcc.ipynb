{
 "cells": [
  {
   "cell_type": "markdown",
   "metadata": {},
   "source": [
    "# Codage canal"
   ]
  },
  {
   "cell_type": "code",
   "execution_count": 1,
   "metadata": {
    "jupyter": {
     "source_hidden": true
    },
    "tags": [
     "remove-input"
    ]
   },
   "outputs": [],
   "source": [
    "import komm\n",
    "import numpy as np\n",
    "from scipy.spatial.distance import hamming\n",
    "import matplotlib.pyplot as plt"
   ]
  },
  {
   "cell_type": "markdown",
   "metadata": {},
   "source": [
    "## Codes & encodeur"
   ]
  },
  {
   "cell_type": "markdown",
   "metadata": {},
   "source": [
    "### Code à parité (5,4)\n",
    "\n",
    "On commence par définir les tailles des blocs du message et du code, ainsi que la matrice génératrice :"
   ]
  },
  {
   "cell_type": "code",
   "execution_count": 2,
   "metadata": {},
   "outputs": [
    {
     "name": "stdout",
     "output_type": "stream",
     "text": [
      "G =\n",
      "[[1. 0. 0. 0. 1.]\n",
      " [0. 1. 0. 0. 1.]\n",
      " [0. 0. 1. 0. 1.]\n",
      " [0. 0. 0. 1. 1.]]\n"
     ]
    }
   ],
   "source": [
    "n, k = 5, 4\n",
    "P = np.ones((k,n-k))\n",
    "I = np.eye(k)\n",
    "G = np.concatenate((I, P), axis=1)\n",
    "\n",
    "print(\"G =\")\n",
    "print(G)"
   ]
  },
  {
   "cell_type": "markdown",
   "metadata": {},
   "source": [
    "On définit alors un objet qui correspond au code à parité (5,4) :"
   ]
  },
  {
   "cell_type": "code",
   "execution_count": 3,
   "metadata": {},
   "outputs": [],
   "source": [
    "code_parity = komm.BlockCode(generator_matrix=G)"
   ]
  },
  {
   "cell_type": "markdown",
   "metadata": {},
   "source": [
    "Le résultat de `BlockCode` est un objet, nommé ici `code_parity` qui possède plusieurs méthodes, notamment celle pour coder un bloc de $k$ bits :"
   ]
  },
  {
   "cell_type": "code",
   "execution_count": 4,
   "metadata": {},
   "outputs": [
    {
     "name": "stdout",
     "output_type": "stream",
     "text": [
      "Le message [0 1 1 0] est codé [0 1 1 0 0]\n"
     ]
    }
   ],
   "source": [
    "message = np.array([0, 1, 1, 0])\n",
    "code = code_parity.encode(message)\n",
    "print(f\"Le message {message} est codé {code}\")"
   ]
  },
  {
   "cell_type": "markdown",
   "metadata": {},
   "source": [
    "Pour coder un message plus long, on doit le découper en blocs de $k$ bits et coder chacun d'eux :"
   ]
  },
  {
   "cell_type": "code",
   "execution_count": 5,
   "metadata": {},
   "outputs": [
    {
     "name": "stdout",
     "output_type": "stream",
     "text": [
      "Message :  [0 1 1 0 1 1]\n",
      "Code    :  [0 1 1 0 0 1 1 0 0 0]\n"
     ]
    }
   ],
   "source": [
    "# Message de plus de 4 bits\n",
    "message = [0, 1, 1, 0, 1, 1]\n",
    "N = len(message)\n",
    "\n",
    "# Initialisation du code\n",
    "code = np.array([], dtype=np.int64)\n",
    "\n",
    "# Scanne le message par blocs de k symboles\n",
    "for i in range(0, N, k):\n",
    "    \n",
    "    # Bloc\n",
    "    m = message[i:i+k]\n",
    "    \n",
    "    # Ajout éventuel de 0 si m contient moins de 4 bits\n",
    "    if len(m) < k:\n",
    "        z = np.zeros(k-len(m), dtype=np.int64)\n",
    "        m = np.append(m, z)\n",
    "        \n",
    "    # Codage du bloc\n",
    "    c = code_parity.encode(m)\n",
    "        \n",
    "    # Ajout du code\n",
    "    code = np.append(code, c)\n",
    "    \n",
    "print(\"Message : \", np.array(message))\n",
    "print(\"Code    : \", code)"
   ]
  },
  {
   "cell_type": "markdown",
   "metadata": {},
   "source": [
    "Le décodage fonctionne de façon similaire, avec la fonction `decode` :"
   ]
  },
  {
   "cell_type": "code",
   "execution_count": 6,
   "metadata": {
    "tags": [
     "remove-input"
    ]
   },
   "outputs": [
    {
     "name": "stdout",
     "output_type": "stream",
     "text": [
      "Le code [0 1 1 0 0] est décodé en [0 1 1 0]\n",
      "Le code [0 1 1 0 1] est décodé en [1 1 1 0]\n"
     ]
    }
   ],
   "source": [
    "for code in [ np.array([0, 1, 1, 0, 0]), np.array([0, 1, 1, 0, 1]) ]:\n",
    "    message = code_parity.decode(code)\n",
    "    print(f\"Le code {code} est décodé en {message}\")"
   ]
  },
  {
   "cell_type": "markdown",
   "metadata": {},
   "source": [
    "\n",
    "### Code de Hamming (7,4)\n",
    "\n",
    "On procède de même que pour le code précédent, sauf que cette fois il suffit de donner la valeur de $m$, qui est défini en fonction de $k=4$ et $n=7$ tel que (se référer à la documentation du module komm) :\n",
    "\n",
    "$$\n",
    "n=2m-1\n",
    "\\quad\\text{et}\\quad\n",
    "k=2m-m-1.\n",
    "$$"
   ]
  },
  {
   "cell_type": "code",
   "execution_count": 7,
   "metadata": {
    "tags": []
   },
   "outputs": [],
   "source": [
    "m = 3\n",
    "code_hamming = komm.HammingCode(m)"
   ]
  },
  {
   "cell_type": "markdown",
   "metadata": {},
   "source": [
    "### Code convolutif\n",
    "\n",
    "Là encore, on définit l'objet représentant le code en lui précisant les polynômes générateurs."
   ]
  },
  {
   "cell_type": "code",
   "execution_count": 8,
   "metadata": {},
   "outputs": [],
   "source": [
    "code_conv = komm.ConvolutionalCode([[0o7, 0o5]])"
   ]
  },
  {
   "cell_type": "markdown",
   "metadata": {},
   "source": [
    "## Tests sur des séquences courtes"
   ]
  },
  {
   "cell_type": "code",
   "execution_count": 9,
   "metadata": {
    "tags": [
     "remove-input"
    ]
   },
   "outputs": [],
   "source": [
    "def encode(msg, code):\n",
    "    \n",
    "    # Type de code\n",
    "    code_type = type(code).__name__\n",
    "        \n",
    "    # Codage dans le cas d'un code en bloc\n",
    "    if code_type == \"BlockCode\" or code_type == \"HammingCode\":\n",
    "        \n",
    "        # Message codé\n",
    "        enc = np.array([], dtype=np.int64)\n",
    "        \n",
    "        # Taille des blocs\n",
    "        k = code.dimension\n",
    "        \n",
    "        # Scanne le message par blocs de k symboles\n",
    "        for i in range(0, len(msg), k):\n",
    "\n",
    "            # Bloc\n",
    "            m = msg[i:i+k]\n",
    "\n",
    "            # Ajout éventuel de 0\n",
    "            if len(m) < k:\n",
    "                z = np.zeros(k-len(m), dtype=np.int64)\n",
    "                m = np.append(m, z)\n",
    "            \n",
    "            c = code.encode(m)\n",
    "        \n",
    "            # Ajout du code\n",
    "            enc = np.append(enc, c)\n",
    "    \n",
    "    # Codage dans le cas d'un code convolutif\n",
    "    if code_type == \"ConvolutionalCode\":\n",
    "        conv_encoder = komm.ConvolutionalStreamEncoder(code)\n",
    "        enc = conv_encoder(msg)\n",
    "    \n",
    "    return enc"
   ]
  },
  {
   "cell_type": "code",
   "execution_count": 10,
   "metadata": {
    "tags": [
     "remove-input"
    ]
   },
   "outputs": [],
   "source": [
    "def decode(enc, code):\n",
    "    \n",
    "    # Type de code\n",
    "    code_type = type(code).__name__\n",
    "    \n",
    "    # Décodage dans le cas d'un code en bloc\n",
    "    if code_type == \"BlockCode\" or code_type == \"HammingCode\":\n",
    "    \n",
    "        # Message décodé\n",
    "        dec = np.array([], dtype=np.int64)\n",
    "        \n",
    "        # Taille des blocs\n",
    "        n = code.dimension + code.redundancy\n",
    "        \n",
    "        # Scanne le code par blocs de n symboles\n",
    "        for i in range(0, len(enc), n):\n",
    "            \n",
    "            # Bloc\n",
    "            c = enc[i:i+n]\n",
    "            d = code.decode(c)\n",
    "        \n",
    "            # Ajout du code\n",
    "            dec = np.append(dec, d)\n",
    "    \n",
    "    # Décodage dans le cas d'un code convolutif\n",
    "    if code_type == \"ConvolutionalCode\":\n",
    "        conv_decoder = komm.ConvolutionalStreamDecoder(code, traceback_length=10)\n",
    "        dec = conv_decoder(enc)\n",
    "    \n",
    "    return dec"
   ]
  },
  {
   "cell_type": "code",
   "execution_count": 11,
   "metadata": {
    "tags": [
     "remove-input"
    ]
   },
   "outputs": [
    {
     "name": "stdout",
     "output_type": "stream",
     "text": [
      "Message :        [1 1 1 1 0 0 1 0 0 0 0 0 1 0 0 0 1 0 0 1]\n",
      "\n",
      "Code à parité (5,4)\n",
      "Message codé :   [1 1 1 1 0 0 0 1 0 1 0 0 0 0 0 1 0 0 0 1 1 0 0 1 0]\n",
      "Message décodé : [1 1 1 1 0 0 1 0 0 0 0 0 1 0 0 0 1 0 0 1]\n",
      "\n",
      "Code de Hamming (7,4) :\n",
      "Message codé :   [1 1 1 1 1 1 1 0 0 1 0 0 1 1 0 0 0 0 0 0 0 1 0 0 0 1 1 0 1 0 0 1 0 0 1]\n",
      "Message décodé : [1 1 1 1 0 0 1 0 0 0 0 0 1 0 0 0 1 0 0 1]\n",
      "\n",
      "Code convolutif :\n",
      "Message codé :   [1 1 0 1 1 0 1 0 0 1 1 1 1 1 1 0 1 1 0 0 0 0 0 0 1 1 1 0 1 1 0 0 1 1 1 0 1\n",
      " 1 1 1 1 0 1 1 0 0 0 0 0 0 0 0 0 0 0 0 0 0 0 0]\n",
      "Message décodé : [1 1 1 1 0 0 1 0 0 0 0 0 1 0 0 0 1 0 0 1]\n",
      "\n"
     ]
    }
   ],
   "source": [
    "N = 20\n",
    "msg = np.random.randint(2, size=N)\n",
    "print(\"Message :       \", msg)\n",
    "print()\n",
    "\n",
    "print(\"Code à parité (5,4)\")\n",
    "encp = encode(msg, code_parity)\n",
    "print(\"Message codé :  \", encp)\n",
    "decp = decode(encp, code_parity)\n",
    "print(\"Message décodé :\", decp)\n",
    "print()\n",
    "\n",
    "print(\"Code de Hamming (7,4) :\")\n",
    "ench = encode(msg, code_hamming)\n",
    "print(\"Message codé :  \", ench)\n",
    "dech = decode(ench, code_hamming)\n",
    "print(\"Message décodé :\", dech)\n",
    "print()\n",
    "\n",
    "print(\"Code convolutif :\")\n",
    "# Rajoute des zéros en fin de message pour vider le buffer\n",
    "m = np.append(msg, np.zeros(10))\n",
    "encc = encode(m, code_conv)\n",
    "print(\"Message codé :  \", encc)\n",
    "decc = decode(encc, code_conv)\n",
    "decc = decc[10:] # Décalage de traceback_length\n",
    "print(\"Message décodé :\", decc)\n",
    "print()"
   ]
  },
  {
   "cell_type": "markdown",
   "metadata": {},
   "source": [
    "## Test sur séquence longue\n",
    "\n",
    "Une p'tite boucle sur plusieurs valeurs de $\\alpha$, au sein de laquelle une grande séquence binaire est générée, puis codée, transmise sur le canal binaire symétrique et décodée, avant de calculer finalement le pourcentage d'erreur."
   ]
  },
  {
   "cell_type": "code",
   "execution_count": 12,
   "metadata": {
    "tags": [
     "remove-input"
    ]
   },
   "outputs": [],
   "source": [
    "# Print iterations progress\n",
    "# https://stackoverflow.com/questions/3173320/text-progress-bar-in-the-console\n",
    "def printProgressBar (iteration, total, prefix = '', suffix = '', decimals = 1, length = 100, fill = '█', printEnd = \"\\r\"):\n",
    "    \"\"\"\n",
    "    Call in a loop to create terminal progress bar\n",
    "    @params:\n",
    "        iteration   - Required  : current iteration (Int)\n",
    "        total       - Required  : total iterations (Int)\n",
    "        prefix      - Optional  : prefix string (Str)\n",
    "        suffix      - Optional  : suffix string (Str)\n",
    "        decimals    - Optional  : positive number of decimals in percent complete (Int)\n",
    "        length      - Optional  : character length of bar (Int)\n",
    "        fill        - Optional  : bar fill character (Str)\n",
    "        printEnd    - Optional  : end character (e.g. \"\\r\", \"\\r\\n\") (Str)\n",
    "    \"\"\"\n",
    "    percent = (\"{0:.\" + str(decimals) + \"f}\").format(100 * (iteration / float(total)))\n",
    "    filledLength = int(length * iteration // total)\n",
    "    bar = fill * filledLength + '-' * (length - filledLength)\n",
    "    print(f'\\r{prefix} |{bar}| {percent}% {suffix}', end = printEnd)\n",
    "    # Print New Line on Complete\n",
    "    if iteration == total: \n",
    "        print()"
   ]
  },
  {
   "cell_type": "code",
   "execution_count": 13,
   "metadata": {
    "tags": [
     "remove-input"
    ]
   },
   "outputs": [],
   "source": [
    "def myplot(alpha, e0, ep, eh, ec):\n",
    "    \"\"\"Mon affichage\"\"\"\n",
    "    fig, ax = plt.subplots(1, 1, figsize=(6,6))\n",
    "    ax.plot(alpha, e0, label=\"Sans code\")\n",
    "    ax.plot(alpha, ep, label=\"Code à parité\")\n",
    "    ax.plot(alpha, eh, label=\"Hamming\")\n",
    "    ax.plot(alpha, ec, label=\"convolutif\")\n",
    "    ax.set_xlabel(\"Probabilité d'erreur\")\n",
    "    ax.set_ylabel(\"Taux d'erreur par bit\")\n",
    "    ax.legend()\n",
    "    ax.grid()\n",
    "    ax.axis('equal')\n",
    "    plt.show()"
   ]
  },
  {
   "cell_type": "code",
   "execution_count": 14,
   "metadata": {
    "tags": [
     "remove-input"
    ]
   },
   "outputs": [],
   "source": [
    "def mycompute(alpha):\n",
    "    \n",
    "    \"\"\"Calcul des erreurs pour les différents codes\"\"\"\n",
    "    \n",
    "    I = len(alpha)\n",
    "\n",
    "    e0 = np.array([])\n",
    "    ep = np.array([])\n",
    "    eh = np.array([])\n",
    "    ec = np.array([])\n",
    "\n",
    "    printProgressBar(0, I)\n",
    "\n",
    "    for i, a in enumerate(alpha):\n",
    "\n",
    "        printProgressBar(i+1, I)\n",
    "\n",
    "        # Message\n",
    "        msg = np.random.randint(2, size=N)\n",
    "        \n",
    "        # Codages\n",
    "        cp = encode(msg, code_parity)\n",
    "        ch = encode(msg, code_hamming)\n",
    "        mc = np.append(msg, np.zeros(10))\n",
    "        cc = encode(mc, code_conv)\n",
    "\n",
    "        # Canal binaire symétrique\n",
    "        bsc = komm.BinarySymmetricChannel(a)\n",
    "        r0 = bsc(msg)\n",
    "        rp = bsc(cp)\n",
    "        rh = bsc(ch)\n",
    "        rc = bsc(cc)\n",
    "\n",
    "        # Décodages\n",
    "        dp = decode(rp, code_parity)\n",
    "        dh = decode(rh, code_hamming)\n",
    "        dc = decode(rc, code_conv)\n",
    "        dc = dc[10:] # Décalage de traceback_length\n",
    "\n",
    "        # Nombre d'erreurs\n",
    "        e0 = np.append(e0, hamming(msg,r0))\n",
    "        ep = np.append(ep, hamming(msg,dp))\n",
    "        eh = np.append(eh, hamming(msg,dh))\n",
    "        ec = np.append(ec, hamming(msg,dc))\n",
    "        \n",
    "    return e0, ep, eh, ec"
   ]
  },
  {
   "cell_type": "code",
   "execution_count": 15,
   "metadata": {
    "tags": []
   },
   "outputs": [],
   "source": [
    "# Taille du message (multiple de 4 bits)\n",
    "N = 4*2000"
   ]
  },
  {
   "cell_type": "markdown",
   "metadata": {},
   "source": [
    "Affichage grossier entre 0 et 50 % :"
   ]
  },
  {
   "cell_type": "code",
   "execution_count": 16,
   "metadata": {
    "tags": [
     "remove-cell"
    ]
   },
   "outputs": [
    {
     "name": "stdout",
     "output_type": "stream",
     "text": [
      " |████████████████████████████████████████████████████████████████████████████████████████████████████| 100.0% \n"
     ]
    }
   ],
   "source": [
    "alpha = np.arange(.00, .50, .05)\n",
    "e0, ep, eh, ec = mycompute(alpha)"
   ]
  },
  {
   "cell_type": "code",
   "execution_count": 17,
   "metadata": {
    "tags": [
     "remove-input"
    ]
   },
   "outputs": [
    {
     "data": {
      "image/png": "[encoded data removed]",
      "text/plain": [
       "<Figure size 432x432 with 1 Axes>"
      ]
     },
     "metadata": {
      "needs_background": "light"
     },
     "output_type": "display_data"
    }
   ],
   "source": [
    "myplot(alpha, e0, ep, eh, ec)"
   ]
  },
  {
   "cell_type": "markdown",
   "metadata": {},
   "source": [
    "Affichage fin entre 0 et 5 % :"
   ]
  },
  {
   "cell_type": "code",
   "execution_count": 18,
   "metadata": {
    "tags": [
     "remove-cell"
    ]
   },
   "outputs": [
    {
     "name": "stdout",
     "output_type": "stream",
     "text": [
      " |████████████████████████████████████████████████████████████████████████████████████████████████████| 100.0% \n"
     ]
    }
   ],
   "source": [
    "alpha = np.arange(.00, .05, .001)\n",
    "e0, ep, eh, ec = mycompute(alpha)"
   ]
  },
  {
   "cell_type": "code",
   "execution_count": 19,
   "metadata": {
    "tags": [
     "remove-input"
    ]
   },
   "outputs": [
    {
     "data": {
      "image/png": "[encoded data removed]",
      "text/plain": [
       "<Figure size 432x432 with 1 Axes>"
      ]
     },
     "metadata": {
      "needs_background": "light"
     },
     "output_type": "display_data"
    }
   ],
   "source": [
    "myplot(alpha, e0, ep, eh, ec)"
   ]
  },
  {
   "cell_type": "markdown",
   "metadata": {},
   "source": [
    "Bien évidemment, quel que soit le codage utilisé, le taux d'erreur augmente avec la probabilité d'erreur sur le canal.\n",
    "Néanmoins, l'utilisation d'un codage canal permet de diminuer le taux d'erreur.\n",
    "\n",
    "Le **code de Hamming** et le **code convolutif**,\n",
    "puisqu'ils sont capables de détecter et de corriger des erreurs, permettent de réduire les erreurs de transmission.\n",
    "\n",
    "En revanche, ce n'est pas le cas du **code à parité** qui produit plus d'erreurs que le canal n'en introduit.\n",
    "La raison est que le code à parité est capable de détecter des erreurs de transmission, mais pas de les corriger.\n",
    "Comme la transmission se fait ici en simplex, le récepteur, même s'il a détecté une erreur,\n",
    "n'est pas en mesure de demander à l'émetteur de renvoyer le message transmis.\n",
    "Par ailleurs, l'implémentation du décodage de la fonction `komm.BlockCode` peut introduire des erreurs, comme dans l'exemple ci-dessous :"
   ]
  },
  {
   "cell_type": "code",
   "execution_count": 20,
   "metadata": {
    "tags": [
     "remove-input"
    ]
   },
   "outputs": [
    {
     "name": "stdout",
     "output_type": "stream",
     "text": [
      "Message        : [0 1 1 0]\n",
      "Message codé   : [0 1 1 0 0]\n",
      "Message reçu   : [0 1 1 0 1]  (erreur de transmission sur le bit de parité)\n",
      "Message décodé : [1 1 1 0]    (introduction d'une erreur dans le message)\n"
     ]
    }
   ],
   "source": [
    "m = np.array([0, 1, 1, 0])\n",
    "c = code_parity.encode(m)\n",
    "r = c + np.array([0, 0, 0, 0, 1])\n",
    "d = code_parity.decode(r)\n",
    "\n",
    "print(f\"Message        : {m}\")\n",
    "print(f\"Message codé   : {c}\")\n",
    "print(f\"Message reçu   : {r}  (erreur de transmission sur le bit de parité)\")\n",
    "print(f\"Message décodé : {d}    (introduction d'une erreur dans le message)\")"
   ]
  }
 ],
 "metadata": {
  "kernelspec": {
   "display_name": "Python 3",
   "language": "python",
   "name": "python3"
  },
  "language_info": {
   "codemirror_mode": {
    "name": "ipython",
    "version": 3
   },
   "file_extension": ".py",
   "mimetype": "text/x-python",
   "name": "python",
   "nbconvert_exporter": "python",
   "pygments_lexer": "ipython3",
   "version": "3.7.3"
  }
 },
 "nbformat": 4,
 "nbformat_minor": 4
}
