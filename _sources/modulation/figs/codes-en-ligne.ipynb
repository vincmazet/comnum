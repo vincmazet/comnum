{
 "cells": [
  {
   "cell_type": "markdown",
   "metadata": {},
   "source": [
    "# Codes en ligne"
   ]
  },
  {
   "cell_type": "code",
   "execution_count": 7,
   "metadata": {},
   "outputs": [],
   "source": [
    "import numpy as np\n",
    "import numpy.random as rnd\n",
    "import matplotlib.pyplot as plt\n",
    "import matplotlib.patches as mpatches\n",
    "\n",
    "plt.style.use('../../_static/graph.mplstyle')"
   ]
  },
  {
   "cell_type": "code",
   "execution_count": 8,
   "metadata": {},
   "outputs": [],
   "source": [
    "xmin, xmax = -.2, 1.2\n",
    "codes = {\n",
    "    \"nrz\" : np.array([ [xmin, 0], [0, 0], [0, 1], [1, 1], [1, 0], [xmax, 0] ]),\n",
    "    \"ami\" : np.array([ [xmin, 0], [0, 0], [0, 1], [1, 1], [1, 0], [xmax, 0] ]),\n",
    "    \"manchester\" : np.array([ [xmin, 0], [0, 0], [0, 1], [.5, 1], [.5, -1], [1, -1], [1, 0], [xmax, 0] ]),\n",
    "}"
   ]
  },
  {
   "cell_type": "code",
   "execution_count": 10,
   "metadata": {},
   "outputs": [
    {
     "data": {
      "image/png": "[encoded data removed]",
      "text/plain": [
       "<Figure size 216x144 with 1 Axes>"
      ]
     },
     "metadata": {
      "needs_background": "light"
     },
     "output_type": "display_data"
    },
    {
     "data": {
      "image/png": "[encoded data removed]",
      "text/plain": [
       "<Figure size 216x144 with 1 Axes>"
      ]
     },
     "metadata": {
      "needs_background": "light"
     },
     "output_type": "display_data"
    },
    {
     "data": {
      "image/png": "[encoded data removed]",
      "text/plain": [
       "<Figure size 216x144 with 1 Axes>"
      ]
     },
     "metadata": {
      "needs_background": "light"
     },
     "output_type": "display_data"
    }
   ],
   "source": [
    "for c in codes:\n",
    "    \n",
    "    h = codes[c]\n",
    "    \n",
    "    fig, ax = plt.subplots(1,1, figsize=(3,2))\n",
    "    plt.plot(h[:,0], h[:,1])\n",
    "    plt.xlabel(\"$t$\")\n",
    "    plt.ylabel(\"$h(t)$\")\n",
    "    plt.xticks([0, 1])\n",
    "    ax.set_xticklabels([\"$0$\", \"$d$\"])\n",
    "    plt.yticks([-1, 0, 1])\n",
    "    ax.set_yticklabels([\"$-V$\", \"$0$\", \"$V$\"])\n",
    "    plt.ylim([-1.2, 1.2])\n",
    "    plt.savefig(f\"code-{c}.svg\")\n",
    "    plt.show()"
   ]
  },
  {
   "cell_type": "code",
   "execution_count": null,
   "metadata": {},
   "outputs": [],
   "source": []
  }
 ],
 "metadata": {
  "kernelspec": {
   "display_name": "Python 3",
   "language": "python",
   "name": "python3"
  },
  "language_info": {
   "codemirror_mode": {
    "name": "ipython",
    "version": 3
   },
   "file_extension": ".py",
   "mimetype": "text/x-python",
   "name": "python",
   "nbconvert_exporter": "python",
   "pygments_lexer": "ipython3",
   "version": "3.7.3"
  }
 },
 "nbformat": 4,
 "nbformat_minor": 4
}
