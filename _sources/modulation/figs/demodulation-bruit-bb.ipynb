{
 "cells": [
  {
   "cell_type": "markdown",
   "metadata": {},
   "source": [
    "# Démodulation d'un signal en bande de base sur un canal idéal (bruité)"
   ]
  },
  {
   "cell_type": "code",
   "execution_count": 1,
   "metadata": {},
   "outputs": [],
   "source": [
    "import matplotlib.pyplot as plt\n",
    "import matplotlib.patches as mpatches\n",
    "\n",
    "plt.style.use('../../_static/diagram.mplstyle')\n",
    "\n",
    "# plt.rcParams.update({\n",
    "#     'font.size': 22,\n",
    "#     \"text.usetex\": True,\n",
    "#     \"font.family\": \"sans-serif\",\n",
    "#     \"font.sans-serif\": \"Source Sans Pro\",\n",
    "# })"
   ]
  },
  {
   "cell_type": "code",
   "execution_count": 2,
   "metadata": {},
   "outputs": [],
   "source": [
    "def block(ax, x, y, w, h, txt):\n",
    "    \"\"\"Bloc\"\"\"\n",
    "    p = plt.Rectangle((x, y), w, h, facecolor=\"white\", edgecolor=\"black\")\n",
    "    ax.add_patch(p)\n",
    "    plt.text(x+w/2, y+h/2, txt, ha=\"center\", va=\"center\")\n",
    "    \n",
    "def add(ax, x, y):\n",
    "    \"\"\"Sommateur\"\"\"\n",
    "    p = mpatches.Circle((x, y), .5, facecolor=\"white\", edgecolor=\"black\")\n",
    "    ax.add_artist(p)\n",
    "    plt.text(x, y, \"+\", ha=\"center\", va=\"center\")\n",
    "    \n",
    "def arrow(ax, x, y, w, h):\n",
    "    \"\"\"Flèche\"\"\"\n",
    "    ax.arrow(x, y, w, h, fc=\"k\", ec=\"k\", head_width=0.1, head_length=0.1, linewidth=.5, length_includes_head=True)\n",
    "    \n",
    "def label(ax, x, y, txt):\n",
    "    \"\"\"Étiquette de texte simple\"\"\"\n",
    "    plt.text(x, y, txt, ha=\"center\", va=\"center\")\n",
    "\n",
    "def drawing(w, h, debug=False):\n",
    "    \"\"\"Fenêtre et axe\"\"\"\n",
    "    fig, ax = plt.subplots(1, 1, figsize=(w,h))\n",
    "    ax.set_aspect('equal')\n",
    "    ax.axis('off')\n",
    "    ax.set_xlim(0, w)\n",
    "    ax.set_ylim(0, h)\n",
    "    if debug:\n",
    "        p = plt.Rectangle((0, 0), w, h, fill=False, edgecolor=\"tab:cyan\", linewidth=2)\n",
    "        ax.add_patch(p)\n",
    "    return fig, ax\n",
    "    \n",
    "def saving(ax, filename):\n",
    "    \"\"\"Enregistrement et affichage\"\"\"\n",
    "    plt.savefig(filename, bbox_inches='tight')\n",
    "    plt.show()"
   ]
  },
  {
   "cell_type": "code",
   "execution_count": 3,
   "metadata": {},
   "outputs": [
    {
     "data": {
      "image/png": "[encoded data removed]",
      "text/plain": [
       "<Figure size 792x216 with 1 Axes>"
      ]
     },
     "metadata": {
      "needs_background": "light"
     },
     "output_type": "display_data"
    }
   ],
   "source": [
    "fig, ax = drawing(11, 3, debug=False)\n",
    "\n",
    "y = 2\n",
    "\n",
    "# Signal reçu\n",
    "x = 0.5\n",
    "label(ax, x , y, \"$y(t)$\")\n",
    "arrow(ax, x+0.5 , y, 1, 0)\n",
    "\n",
    "# Filtre de réception\n",
    "x = 2\n",
    "block(ax, x, y-0.5, 1, 1, \"$r(t)$\")\n",
    "label(ax, x+0.5, y-1.2, \"Filtre de\\nréception\")\n",
    "\n",
    "# Échantillonnage\n",
    "x = 3\n",
    "plt.plot([x, x+2, x+2+.7], [y, y, y+.7], color=\"k\", linewidth=.8)\n",
    "label(ax, x+1.25, y+0.5, \"$z(t)$\")\n",
    "label(ax, x+2.5, y-0.4, \"$d$\")\n",
    "ax.text(x+2.5, y-1.2, \"Échantillonnage\", ha=\"center\", va=\"baseline\")\n",
    "arrow(ax, x+3, y, 2, 0)\n",
    "\n",
    "# Seuillage\n",
    "x = 8\n",
    "block(ax, x, y-0.5, 1, 1, \"\")\n",
    "ax.plot([x+.2,x+.5,x+.5,x+.8], [y-.3,y-.3,y+.3,y+.3], \"k\")\n",
    "ax.plot([x+.4,x+.6], [y,y], \"k\")\n",
    "label(ax, x+.25, y+.2, \"$S$\")\n",
    "ax.text(x+.5, y-1.2, \"Seuillage\", ha=\"center\", va=\"baseline\")\n",
    "\n",
    "# Message\n",
    "x = 9\n",
    "arrow(ax, x , y, 1, 0)\n",
    "label(ax, x+1.5 , y, \"$\\widehat{m}$\")\n",
    "\n",
    "saving(ax, \"demodulation-bruit-bb.svg\")"
   ]
  }
 ],
 "metadata": {
  "kernelspec": {
   "display_name": "Python 3",
   "language": "python",
   "name": "python3"
  },
  "language_info": {
   "codemirror_mode": {
    "name": "ipython",
    "version": 3
   },
   "file_extension": ".py",
   "mimetype": "text/x-python",
   "name": "python",
   "nbconvert_exporter": "python",
   "pygments_lexer": "ipython3",
   "version": "3.7.3"
  }
 },
 "nbformat": 4,
 "nbformat_minor": 4
}
