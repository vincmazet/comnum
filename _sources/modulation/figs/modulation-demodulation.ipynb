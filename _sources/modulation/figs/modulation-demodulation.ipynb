{
 "cells": [
  {
   "cell_type": "markdown",
   "metadata": {},
   "source": [
    "# Modulation-démodulation"
   ]
  },
  {
   "cell_type": "code",
   "execution_count": 1,
   "metadata": {},
   "outputs": [],
   "source": [
    "import matplotlib.pyplot as plt\n",
    "import matplotlib.patches as mpatches\n",
    "\n",
    "plt.style.use('../../_static/diagram.mplstyle')"
   ]
  },
  {
   "cell_type": "code",
   "execution_count": 2,
   "metadata": {},
   "outputs": [],
   "source": [
    "def block(ax, x, y, w, h, txt):\n",
    "    \"\"\"Bloc\"\"\"\n",
    "    p = plt.Rectangle((x, y), w, h, facecolor=\"white\", edgecolor=\"black\")\n",
    "    ax.add_patch(p)\n",
    "    plt.text(x+w/2, y+h/2, txt, ha=\"center\", va=\"center\")\n",
    "    \n",
    "def add(ax, x, y):\n",
    "    \"\"\"Sommateur\"\"\"\n",
    "    p = mpatches.Circle((x, y), .5, facecolor=\"white\", edgecolor=\"black\")\n",
    "    ax.add_artist(p)\n",
    "    plt.text(x, y, \"+\", ha=\"center\", va=\"center\")\n",
    "    \n",
    "def arrow(ax, x, y, w, h):\n",
    "    \"\"\"Flèche\"\"\"\n",
    "    ax.arrow(x, y, w, h, fc=\"k\", ec=\"k\", head_width=0.1, head_length=0.1, linewidth=.5, length_includes_head=True)\n",
    "    \n",
    "def label(ax, x, y, txt):\n",
    "    \"\"\"Étiquette de texte simple\"\"\"\n",
    "    plt.text(x, y, txt, ha=\"center\", va=\"center\")\n",
    "\n",
    "def drawing(w, h, debug=False):\n",
    "    \"\"\"Fenêtre et axe\"\"\"\n",
    "    fig, ax = plt.subplots(1, 1, figsize=(w,h))\n",
    "    ax.set_aspect('equal')\n",
    "    ax.axis('off')\n",
    "    ax.set_xlim(0, w)\n",
    "    ax.set_ylim(0, h)\n",
    "    if debug:\n",
    "        p = plt.Rectangle((0, 0), w, h, fill=False, edgecolor=\"tab:cyan\", linewidth=2)\n",
    "        ax.add_patch(p)\n",
    "    return fig, ax\n",
    "    \n",
    "def saving(ax, filename):\n",
    "    \"\"\"Enregistrement et affichage\"\"\"\n",
    "    plt.savefig(filename, bbox_inches='tight')\n",
    "    plt.show()"
   ]
  },
  {
   "cell_type": "code",
   "execution_count": 3,
   "metadata": {},
   "outputs": [
    {
     "data": {
      "image/png": "[encoded data removed]",
      "text/plain": [
       "<Figure size 1260x252 with 1 Axes>"
      ]
     },
     "metadata": {
      "needs_background": "light"
     },
     "output_type": "display_data"
    }
   ],
   "source": [
    "fig, ax = drawing(17.5, 3.5, debug=False)\n",
    "\n",
    "p = plt.Rectangle((7.0, 0.1), 3.5, 3.3, facecolor=\"#1f77b440\", edgecolor=\"tab:blue\")\n",
    "ax.add_patch(p)\n",
    "plt.text(8.75, 0.5, \"Canal\", ha=\"center\", va=\"center\", color=\"tab:blue\")\n",
    "\n",
    "y = 1.5\n",
    "\n",
    "label(ax,  1.0 , y    , \"$m$\")\n",
    "arrow(ax,  1.5 , y    , 1, 0)\n",
    "block(ax,  2.5 , y-0.5, 3, 1, \"Modulateur\")\n",
    "arrow(ax,  5.5 , y    , 2, 0)\n",
    "label(ax,  6.25, y+0.5, \"$x(t)$\")\n",
    "block(ax,  7.5 , y-0.5, 1, 1, \"$g$\")\n",
    "arrow(ax,  8.5 , y    , .5, 0)\n",
    "add(ax,    9.5 , y    )\n",
    "label(ax,  9.5 , y+1.5, \"$b(t)$\")\n",
    "arrow(ax,  9.5 , y+1.0, 0, -.5)\n",
    "arrow(ax, 10.0 , y    , 2, 0)\n",
    "label(ax, 11.25, y+0.5, \"$y(t)$\")\n",
    "block(ax, 12.0 , y-0.5, 3, 1, \"Démodulateur\")\n",
    "arrow(ax, 15.0 , y    , 1, 0)\n",
    "label(ax, 16.5 , y    , \"$\\widehat{m}$\")\n",
    "\n",
    "saving(ax, \"modulation-demodulation.svg\")"
   ]
  },
  {
   "cell_type": "code",
   "execution_count": null,
   "metadata": {},
   "outputs": [],
   "source": []
  }
 ],
 "metadata": {
  "kernelspec": {
   "display_name": "Python 3",
   "language": "python",
   "name": "python3"
  },
  "language_info": {
   "codemirror_mode": {
    "name": "ipython",
    "version": 3
   },
   "file_extension": ".py",
   "mimetype": "text/x-python",
   "name": "python",
   "nbconvert_exporter": "python",
   "pygments_lexer": "ipython3",
   "version": "3.7.3"
  }
 },
 "nbformat": 4,
 "nbformat_minor": 4
}
