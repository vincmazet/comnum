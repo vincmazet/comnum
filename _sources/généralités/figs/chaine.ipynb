{
 "cells": [
  {
   "cell_type": "markdown",
   "metadata": {},
   "source": [
    "# Chaîne de communication"
   ]
  },
  {
   "cell_type": "code",
   "execution_count": 1,
   "metadata": {},
   "outputs": [],
   "source": [
    "import matplotlib.pyplot as plt\n",
    "import matplotlib.patches as mpatches\n",
    "\n",
    "plt.style.use('../../_static/diagram.mplstyle')\n",
    "plt.rcParams.update({\n",
    "    'font.size': 16,\n",
    "})"
   ]
  },
  {
   "cell_type": "code",
   "execution_count": 2,
   "metadata": {},
   "outputs": [],
   "source": [
    "def block(ax, x, y, w, h, txt):\n",
    "    \"\"\"Bloc\"\"\"\n",
    "    p = plt.Rectangle((x, y), w, h, facecolor=\"white\", edgecolor=\"black\")\n",
    "    ax.add_patch(p)\n",
    "    plt.text(x+w/2, y+h/2, txt, ha=\"center\", va=\"center\")\n",
    "    \n",
    "def add(ax, x, y):\n",
    "    \"\"\"Sommateur\"\"\"\n",
    "    p = mpatches.Circle((x, y), .5, facecolor=\"white\", edgecolor=\"black\")\n",
    "    ax.add_artist(p)\n",
    "    plt.text(x, y, \"+\", ha=\"center\", va=\"center\")\n",
    "    \n",
    "def arrow(ax, x, y, w, h):\n",
    "    \"\"\"Flèche\"\"\"\n",
    "    ax.arrow(x, y, w, h, fc=\"k\", ec=\"k\", head_width=0.1, head_length=0.1, linewidth=.5, length_includes_head=True)\n",
    "    \n",
    "def label(ax, x, y, txt):\n",
    "    \"\"\"Étiquette de texte simple\"\"\"\n",
    "    plt.text(x, y, txt, ha=\"center\", va=\"center\")\n",
    "\n",
    "def drawing(w, h, debug=False):\n",
    "    \"\"\"Fenêtre et axe\"\"\"\n",
    "    fig, ax = plt.subplots(1, 1, figsize=(w,h))\n",
    "    ax.set_aspect('equal')\n",
    "    ax.axis('off')\n",
    "    ax.set_xlim(0, w)\n",
    "    ax.set_ylim(0, h)\n",
    "    if debug:\n",
    "        p = plt.Rectangle((0, 0), w, h, fill=False, edgecolor=\"tab:cyan\", linewidth=2)\n",
    "        ax.add_patch(p)\n",
    "    return fig, ax\n",
    "    \n",
    "def saving(ax, filename):\n",
    "    \"\"\"Enregistrement et affichage\"\"\"\n",
    "    plt.savefig(filename, bbox_inches='tight')\n",
    "    plt.show()"
   ]
  },
  {
   "cell_type": "code",
   "execution_count": 3,
   "metadata": {},
   "outputs": [
    {
     "data": {
      "image/png": "[encoded data removed]",
      "text/plain": [
       "<Figure size 1008x331.2 with 1 Axes>"
      ]
     },
     "metadata": {
      "needs_background": "light"
     },
     "output_type": "display_data"
    }
   ],
   "source": [
    "w, h, aw = 1.4, .8, .5\n",
    "f1 = 1.5 + w/2\n",
    "f2 = 1.5 + (aw+w)*5 + w/2\n",
    "\n",
    "fig, ax = drawing(14, 4.6, debug=False)\n",
    "\n",
    "# # Domaines analogiques et numériques\n",
    "plt.plot([f1, f1], [0, 4.6], color=\"tab:blue\", linewidth=2, zorder=0, linestyle=\"--\")\n",
    "plt.plot([f2, f2], [0, 4.6], color=\"tab:blue\", linewidth=2, zorder=0, linestyle=\"--\")\n",
    "plt.text(f1/2,         0.2, 'Analogique', ha='center', va='bottom', color=\"tab:blue\")\n",
    "plt.text(f1+(f2-f1)/2, 0.2, 'Numérique',  ha='center', va='bottom', color=\"tab:blue\")\n",
    "plt.text(f2+1,         0.2, 'Analogique', ha='center', va='bottom', color=\"tab:blue\")\n",
    "\n",
    "# Blocs de l'émetteur\n",
    "blocks = [ \"CAN\", \"Codage\\nsource\", \"Chiffre-\\nment\", \"Codage\\ncanal\", \"Multi-\\nplexage\", \"Modu-\\nlation\" ]\n",
    "x = 1.5\n",
    "y = 3.0\n",
    "plt.text(.2, y+h/2, '$m(t)$', ha='left', va='center')\n",
    "plt.plot([1.5+aw*0.5+w, 1.5+aw*0.5+w], [y+h/2, y+h/2+.5], color=\"k\", linewidth=1)\n",
    "plt.text(1.5+aw*0.5+w, y+1.3, '$m[n]$', ha='center', va='center')\n",
    "for b in blocks:\n",
    "    arrow(ax, x-aw, y+h/2, aw, 0)\n",
    "    block(ax, x, y, w, h, b)\n",
    "    x += w + aw\n",
    "    \n",
    "# Blocs du récepteur\n",
    "blocks = [ \"CNA\", \"Décodage\\nsource\", \"Déchif-\\nfrement\", \"Décodage\\ncanal\", \"Démulti-\\nplexage\", \"Démodu-\\nlation\" ]\n",
    "x = 1.5\n",
    "y = 0.8\n",
    "plt.text(.2, y+h/2, '$\\hat{m}(t)$', ha='left', va='center')\n",
    "arrow(ax, 1.5+aw*0.5+w, y+h/2, 0, -.5)\n",
    "plt.text(1.5+aw*0.5+w, y-.5, '$\\hat{m}[n]$', ha='center', va='center')\n",
    "for b in blocks:\n",
    "    arrow(ax, x, y+h/2, -aw, 0)\n",
    "    block(ax, x, y, w, h, b)\n",
    "    x += w + aw\n",
    "\n",
    "# Canal\n",
    "x = 13\n",
    "plt.text(x   , 3+h/2, '$x(t)$', ha='left', va='center')\n",
    "ax.arrow(x-.6, 3.4, .5, 0, fc='k', ec='k', linewidth=.5, length_includes_head=True)\n",
    "ax.arrow(x-.1, 3.4, 0, -.6, head_width=0.1, head_length=0.1, fc='k', ec='k', linewidth=.5, length_includes_head=True)\n",
    "block(ax,x-.5, 1.8, .8, 1, 'Canal')\n",
    "ax.arrow(x-.1, 1.8, 0, -.6, fc='k', ec='k', linewidth=.5, length_includes_head=True)\n",
    "ax.arrow(x-.1, 1.2, -.5, 0, head_width=0.1, head_length=0.1, fc='k', ec='k', linewidth=.5, length_includes_head=True)\n",
    "plt.text(x   , y+h/2, '$y(t)$', ha='left', va='center')\n",
    "\n",
    "plt.savefig(\"chaine.svg\", format=\"svg\", bbox_inches='tight')\n",
    "plt.show()"
   ]
  },
  {
   "cell_type": "code",
   "execution_count": null,
   "metadata": {},
   "outputs": [],
   "source": []
  }
 ],
 "metadata": {
  "kernelspec": {
   "display_name": "Python 3",
   "language": "python",
   "name": "python3"
  },
  "language_info": {
   "codemirror_mode": {
    "name": "ipython",
    "version": 3
   },
   "file_extension": ".py",
   "mimetype": "text/x-python",
   "name": "python",
   "nbconvert_exporter": "python",
   "pygments_lexer": "ipython3",
   "version": "3.7.3"
  }
 },
 "nbformat": 4,
 "nbformat_minor": 4
}
